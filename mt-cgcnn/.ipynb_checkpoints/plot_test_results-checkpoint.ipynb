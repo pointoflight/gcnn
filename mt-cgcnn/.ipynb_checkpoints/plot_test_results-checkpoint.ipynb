{
 "cells": [
  {
   "cell_type": "code",
   "execution_count": 41,
   "id": "b63264fb",
   "metadata": {},
   "outputs": [],
   "source": [
    "import pandas as pd\n",
    "import csv\n",
    "import matplotlib.pyplot as plt"
   ]
  },
  {
   "cell_type": "code",
   "execution_count": 68,
   "id": "393f1723",
   "metadata": {},
   "outputs": [],
   "source": [
    "def plot_from_csv(path):\n",
    "    a = pd.read_csv(path, header=None)\n",
    "\n",
    "    tar = []\n",
    "    pred = []\n",
    "\n",
    "    with open('path, 'r') as csv_file:\n",
    "        csv_reader = csv.reader(csv_file)\n",
    "        for row in csv_reader:\n",
    "            target = row[1]\n",
    "            prediction = row[2]\n",
    "            target = target[1:len(target)-1]\n",
    "            target = list(target.split(','))\n",
    "            prediction = prediction[1:len(prediction)-1]\n",
    "            prediction = list(prediction.split(','))\n",
    "            print(float(target[2]), float(prediction[2]))\n",
    "            tar.append(float(target[2]))\n",
    "            pred.append(float(prediction[2]))\n",
    "    \n",
    "    g = plt.scatter(tar, pred)\n",
    "    g.axes.set_xlabel('Targets')\n",
    "    g.axes.set_ylabel('Predictions')"
   ]
  },
  {
   "cell_type": "code",
   "execution_count": 18,
   "id": "a09582f6",
   "metadata": {},
   "outputs": [],
   "source": [
    "target = list(a[1])\n",
    "prediction = list(a[2])"
   ]
  },
  {
   "cell_type": "code",
   "execution_count": 23,
   "id": "2dfd8460",
   "metadata": {},
   "outputs": [],
   "source": [
    "s = target[0]\n",
    "s = s[1:len(s)-1]\n",
    "sp = list(s.split(','))"
   ]
  },
  {
   "cell_type": "code",
   "execution_count": 28,
   "id": "ea4cde43",
   "metadata": {},
   "outputs": [
    {
     "data": {
      "text/plain": [
       "0.266496479511261"
      ]
     },
     "execution_count": 28,
     "metadata": {},
     "output_type": "execute_result"
    }
   ],
   "source": [
    "float(sp[2])"
   ]
  },
  {
   "cell_type": "code",
   "execution_count": 29,
   "id": "32f94207",
   "metadata": {},
   "outputs": [
    {
     "data": {
      "text/plain": [
       "['1.0', ' 1.0', ' 0.266496479511261']"
      ]
     },
     "execution_count": 29,
     "metadata": {},
     "output_type": "execute_result"
    }
   ],
   "source": [
    "sp"
   ]
  },
  {
   "cell_type": "code",
   "execution_count": 39,
   "id": "4fb015c8",
   "metadata": {},
   "outputs": [
    {
     "name": "stdout",
     "output_type": "stream",
     "text": [
      "0.266496479511261 0.5644196271896362\n",
      "0.9287963509559631 0.9417895078659058\n",
      "0.7228543162345886 0.784940242767334\n",
      "0.963236391544342 0.9935274720191956\n",
      "0.6887282729148865 0.5945349931716919\n",
      "0.8767532110214233 0.9230437278747559\n",
      "0.9583128094673157 0.8105255961418152\n",
      "0.34934207797050476 0.5642405152320862\n",
      "0.9813512563705444 0.9607772827148438\n",
      "0.7576996088027954 0.7368748784065247\n",
      "0.988272488117218 0.9318901300430298\n",
      "0.8747496604919434 0.6611136198043823\n",
      "0.967978835105896 0.9234848618507385\n",
      "0.6471538543701172 0.7590996026992798\n",
      "0.9797264933586121 0.8987427353858948\n",
      "0.07555461674928665 0.6919966340065002\n",
      "0.992630660533905 0.9300580024719238\n",
      "0.9753398895263672 0.6305239200592041\n",
      "0.9783200025558472 0.804245114326477\n",
      "0.9760381579399109 0.6948463916778564\n",
      "0.9878295660018921 0.9546542167663574\n",
      "0.9618995189666748 0.6431825160980225\n"
     ]
    }
   ],
   "source": [
    "targets = []\n",
    "predictions = []\n",
    "\n",
    "with open('test_results.csv', 'r') as csv_file:\n",
    "    csv_reader = csv.reader(csv_file)\n",
    "    for row in csv_reader:\n",
    "        target = row[1]\n",
    "        prediction = row[2]\n",
    "        target = target[1:len(target)-1]\n",
    "        target = list(target.split(','))\n",
    "        prediction = prediction[1:len(prediction)-1]\n",
    "        prediction = list(prediction.split(','))\n",
    "        print(float(target[2]), float(prediction[2]))\n",
    "        targets.append(target[2])\n",
    "        predictions.append(prediction[2])"
   ]
  },
  {
   "cell_type": "code",
   "execution_count": 62,
   "id": "27829b54",
   "metadata": {},
   "outputs": [
    {
     "data": {
      "text/plain": [
       "Text(0, 0.5, 'Predictions')"
      ]
     },
     "execution_count": 62,
     "metadata": {},
     "output_type": "execute_result"
    },
    {
     "data": {
      "image/png": "[encoded data removed]",
      "text/plain": [
       "<Figure size 432x288 with 1 Axes>"
      ]
     },
     "metadata": {
      "needs_background": "light"
     },
     "output_type": "display_data"
    }
   ],
   "source": [
    "# # plt.scatter(targets[0:5], predictions[0:5])\n",
    "# g=plt.scatter(targets, predictions)\n",
    "# # g.axes.set_yscale('log')\n",
    "# # g.axes.set_xscale('log')\n",
    "# g.axes.set_xlabel('True Values ')\n",
    "# g.axes.set_ylabel('Predictions ')\n",
    "# g.axes.axis('equal')\n",
    "# # g.axes.axis('square')\n",
    "# plt.plot())\n",
    "# diff = [float(targets[i]) - float(predictions[i]) for i in range(len(targets))]\n",
    "# diff\n",
    "tar = [float(targets[i]) for i in range(len(targets))]\n",
    "pred = [float(predictions[i]) for i in range(len(targets))]\n",
    "g = plt.scatter(tar, pred)\n",
    "g.axes.set_xlabel('Targets')\n",
    "g.axes.set_ylabel('Predictions')"
   ]
  },
  {
   "cell_type": "code",
   "execution_count": 69,
   "id": "d5dffba7",
   "metadata": {},
   "outputs": [
    {
     "name": "stdout",
     "output_type": "stream",
     "text": [
      "0.266496479511261 0.5644196271896362\n",
      "0.9287963509559631 0.9417895078659058\n",
      "0.7228543162345886 0.784940242767334\n",
      "0.963236391544342 0.9935274720191956\n",
      "0.6887282729148865 0.5945349931716919\n",
      "0.8767532110214233 0.9230437278747559\n",
      "0.9583128094673157 0.8105255961418152\n",
      "0.34934207797050476 0.5642405152320862\n",
      "0.9813512563705444 0.9607772827148438\n",
      "0.7576996088027954 0.7368748784065247\n",
      "0.988272488117218 0.9318901300430298\n",
      "0.8747496604919434 0.6611136198043823\n",
      "0.967978835105896 0.9234848618507385\n",
      "0.6471538543701172 0.7590996026992798\n",
      "0.9797264933586121 0.8987427353858948\n",
      "0.07555461674928665 0.6919966340065002\n",
      "0.992630660533905 0.9300580024719238\n",
      "0.9753398895263672 0.6305239200592041\n",
      "0.9783200025558472 0.804245114326477\n",
      "0.9760381579399109 0.6948463916778564\n",
      "0.9878295660018921 0.9546542167663574\n",
      "0.9618995189666748 0.6431825160980225\n"
     ]
    },
    {
     "data": {
      "image/png": "[encoded data removed]",
      "text/plain": [
       "<Figure size 432x288 with 1 Axes>"
      ]
     },
     "metadata": {
      "needs_background": "light"
     },
     "output_type": "display_data"
    }
   ],
   "source": [
    "plot_from_csv('test_results.csv')"
   ]
  },
  {
   "cell_type": "code",
   "execution_count": 71,
   "id": "f090a2a8",
   "metadata": {},
   "outputs": [
    {
     "name": "stdout",
     "output_type": "stream",
     "text": [
      "0.266496479511261 0.5644196271896362\n",
      "0.9287963509559631 0.9417895078659058\n",
      "0.7228543162345886 0.784940242767334\n",
      "0.963236391544342 0.9935274720191956\n",
      "0.6887282729148865 0.5945349931716919\n",
      "0.8767532110214233 0.9230437278747559\n",
      "0.9583128094673157 0.8105255961418152\n",
      "0.34934207797050476 0.5642405152320862\n",
      "0.9813512563705444 0.9607772827148438\n",
      "0.7576996088027954 0.7368748784065247\n",
      "0.988272488117218 0.9318901300430298\n",
      "0.8747496604919434 0.6611136198043823\n",
      "0.967978835105896 0.9234848618507385\n",
      "0.6471538543701172 0.7590996026992798\n",
      "0.9797264933586121 0.8987427353858948\n",
      "0.07555461674928665 0.6919966340065002\n",
      "0.992630660533905 0.9300580024719238\n",
      "0.9753398895263672 0.6305239200592041\n",
      "0.9783200025558472 0.804245114326477\n",
      "0.9760381579399109 0.6948463916778564\n",
      "0.9878295660018921 0.9546542167663574\n",
      "0.9618995189666748 0.6431825160980225\n"
     ]
    },
    {
     "data": {
      "image/png": "[encoded data removed]",
      "text/plain": [
       "<Figure size 432x288 with 1 Axes>"
      ]
     },
     "metadata": {
      "needs_background": "light"
     },
     "output_type": "display_data"
    }
   ],
   "source": [
    "plot_from_csv('test_results_new.csv')"
   ]
  },
  {
   "cell_type": "code",
   "execution_count": null,
   "id": "12f6b69f",
   "metadata": {},
   "outputs": [],
   "source": []
  }
 ],
 "metadata": {
  "kernelspec": {
   "display_name": "Python 3",
   "language": "python",
   "name": "python3"
  },
  "language_info": {
   "codemirror_mode": {
    "name": "ipython",
    "version": 3
   },
   "file_extension": ".py",
   "mimetype": "text/x-python",
   "name": "python",
   "nbconvert_exporter": "python",
   "pygments_lexer": "ipython3",
   "version": "3.8.8"
  }
 },
 "nbformat": 4,
 "nbformat_minor": 5
}
