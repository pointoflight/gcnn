{
 "cells": [
  {
   "cell_type": "code",
   "execution_count": 1,
   "metadata": {},
   "outputs": [],
   "source": [
    "import sys, os, shutil, time, csv, warnings, random\n",
    "\n",
    "import numpy as np\n",
    "import torch\n",
    "import torch.nn as nn\n",
    "import torch.optim as optim\n",
    "from torch.autograd import Variable\n",
    "from torch.optim.lr_scheduler import MultiStepLR, ReduceLROnPlateau\n",
    "from tqdm import tqdm\n",
    "# from torchviz import make_dot\n",
    "\n",
    "from model import MTCGCNN\n",
    "from data import collate_pool, get_train_val_test_loader\n",
    "from data import CIFData\n",
    "from plotter import plotMultiGraph, plotGraph"
   ]
  },
  {
   "cell_type": "code",
   "execution_count": 2,
   "metadata": {},
   "outputs": [],
   "source": [
    "resume = '../orig_cgcnn/pre-trained/band-gap.pth.tar'\n",
    "\n",
    "checkpoint = torch.load(resume, map_location=torch.device('cpu'))"
   ]
  },
  {
   "cell_type": "code",
   "execution_count": 10,
   "metadata": {},
   "outputs": [
    {
     "name": "stdout",
     "output_type": "stream",
     "text": [
      "dataset matproj\n",
      "data_options ['/oasis/scratch/comet/txie/temp_project/data/matproj/20170419_semi.json', 'regression', 'band_gap']\n",
      "atom_encoder custom\n",
      "atom_encoder_param ['/home/txie/works/cgnn/Local/embeddings/elem_prop_embedding.json']\n",
      "task regression\n",
      "n_out 1\n",
      "disable_cuda False\n",
      "workers 0\n",
      "epochs 1000\n",
      "start_epoch 0\n",
      "batch_size 256\n",
      "lr 0.05\n",
      "lr_milestones [800]\n",
      "momentum 0.9\n",
      "weight_decay 0.0\n",
      "print_freq 10\n",
      "resume \n",
      "train_size 16458\n",
      "val_size 5485\n",
      "test_size 5486\n",
      "optim SGD\n",
      "atom_fea_len 64\n",
      "h_fea_len 32\n",
      "n_conv 4\n",
      "n_h 1\n",
      "cuda True\n"
     ]
    }
   ],
   "source": [
    "for key in list(checkpoint['args'].keys()):\n",
    "    print(key, checkpoint['args'][key])"
   ]
  },
  {
   "cell_type": "code",
   "execution_count": 12,
   "metadata": {},
   "outputs": [],
   "source": [
    "resume1 = '../orig_cgcnn/pre-trained/formation-energy-per-atom.pth.tar'\n",
    "checkpoint1 = torch.load(resume, map_location=torch.device('cpu'))"
   ]
  },
  {
   "cell_type": "code",
   "execution_count": 13,
   "metadata": {},
   "outputs": [
    {
     "name": "stdout",
     "output_type": "stream",
     "text": [
      "dataset matproj\n",
      "data_options ['/oasis/scratch/comet/txie/temp_project/data/matproj/20170419_semi.json', 'regression', 'band_gap']\n",
      "atom_encoder custom\n",
      "atom_encoder_param ['/home/txie/works/cgnn/Local/embeddings/elem_prop_embedding.json']\n",
      "task regression\n",
      "n_out 1\n",
      "disable_cuda False\n",
      "workers 0\n",
      "epochs 1000\n",
      "start_epoch 0\n",
      "batch_size 256\n",
      "lr 0.05\n",
      "lr_milestones [800]\n",
      "momentum 0.9\n",
      "weight_decay 0.0\n",
      "print_freq 10\n",
      "resume \n",
      "train_size 16458\n",
      "val_size 5485\n",
      "test_size 5486\n",
      "optim SGD\n",
      "atom_fea_len 64\n",
      "h_fea_len 32\n",
      "n_conv 4\n",
      "n_h 1\n",
      "cuda True\n"
     ]
    }
   ],
   "source": [
    "for key in list(checkpoint1['args'].keys()):\n",
    "    print(key, checkpoint1['args'][key])"
   ]
  },
  {
   "cell_type": "code",
   "execution_count": null,
   "metadata": {},
   "outputs": [],
   "source": []
  }
 ],
 "metadata": {
  "kernelspec": {
   "display_name": "Python 3",
   "language": "python",
   "name": "python3"
  },
  "language_info": {
   "codemirror_mode": {
    "name": "ipython",
    "version": 3
   },
   "file_extension": ".py",
   "mimetype": "text/x-python",
   "name": "python",
   "nbconvert_exporter": "python",
   "pygments_lexer": "ipython3",
   "version": "3.8.8"
  }
 },
 "nbformat": 4,
 "nbformat_minor": 4
}
